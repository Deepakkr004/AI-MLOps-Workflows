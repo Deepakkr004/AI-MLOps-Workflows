{
 "cells": [
  {
   "cell_type": "code",
   "execution_count": 21,
   "metadata": {},
   "outputs": [],
   "source": [
    "import pandas as pd\n",
    "from sklearn.model_selection import train_test_split\n",
    "from sklearn.ensemble import RandomForestClassifier\n",
    "from sklearn.metrics import accuracy_score\n",
    "import joblib\n",
    "from sklearn.datasets import load_iris"
   ]
  },
  {
   "cell_type": "code",
   "execution_count": 22,
   "metadata": {},
   "outputs": [],
   "source": [
    "def ingest_data():\n",
    "    iris_data = load_iris()\n",
    "    data = pd.DataFrame(data=iris_data.data, columns=iris_data.feature_names)\n",
    "    data['target'] = iris_data.target\n",
    "    return data"
   ]
  },
  {
   "cell_type": "code",
   "execution_count": 23,
   "metadata": {},
   "outputs": [],
   "source": [
    "def engineer_features(data):\n",
    "    features = data.drop('target', axis=1)\n",
    "    target = data['target']\n",
    "    return features, target"
   ]
  },
  {
   "cell_type": "code",
   "execution_count": 24,
   "metadata": {},
   "outputs": [],
   "source": [
    "# Hyperparameter Tuning using RandomizedSearchCV\n",
    "def hyperparameter_tuning(X_train, y_train):\n",
    "    param_grid = {\n",
    "    'n_estimators': [50, 100, 200, 300, 400],           # Number of trees in the forest\n",
    "    'max_depth': [5, 10, 15, 20, None],                 # Maximum depth of the tree\n",
    "    'min_samples_split': [2, 5, 10],                    # Minimum number of samples required to split a node\n",
    "    'min_samples_leaf': [1, 2, 4],                      # Minimum number of samples required to be at a leaf node\n",
    "    'max_features': ['sqrt', 'log2', None],             # 'auto' removed, valid options are 'sqrt', 'log2', or None\n",
    "    'bootstrap': [True, False]                          # Whether bootstrap samples are used when building trees\n",
    "}\n",
    "\n",
    "\n",
    "    # Instantiate RandomForestClassifier\n",
    "    rf = RandomForestClassifier()\n",
    "\n",
    "    # RandomizedSearchCV\n",
    "    rf_random = RandomizedSearchCV(estimator=rf, param_distributions=param_grid, \n",
    "                                   n_iter=50, cv=3, verbose=2, random_state=42, n_jobs=-1)\n",
    "    rf_random.fit(X_train, y_train)\n",
    "    \n",
    "    print(f\"Best Hyperparameters: {rf_random.best_params_}\")\n",
    "    \n",
    "    return rf_random.best_estimator_\n"
   ]
  },
  {
   "cell_type": "code",
   "execution_count": 25,
   "metadata": {},
   "outputs": [],
   "source": [
    "# Model Training\n",
    "def train_model(features, target):\n",
    "    X_train, X_test, y_train, y_test = train_test_split(features, target, test_size=0.2, random_state=42)\n",
    "    \n",
    "    # Perform hyperparameter tuning\n",
    "    model = hyperparameter_tuning(X_train, y_train)\n",
    "    \n",
    "    # Train the best model on the training data\n",
    "    model.fit(X_train, y_train)\n",
    "    \n",
    "    # Predict and evaluate accuracy on the test set\n",
    "    predictions = model.predict(X_test)\n",
    "    print(f\"Model Accuracy after tuning: {accuracy_score(y_test, predictions)}\")\n",
    "    \n",
    "    return model\n"
   ]
  },
  {
   "cell_type": "code",
   "execution_count": 26,
   "metadata": {},
   "outputs": [],
   "source": [
    "def deploy_model(model, model_path):\n",
    "    joblib.dump(model, model_path)\n",
    "    print(f\"Model saved to {model_path}\")"
   ]
  },
  {
   "cell_type": "code",
   "execution_count": 27,
   "metadata": {},
   "outputs": [
    {
     "name": "stdout",
     "output_type": "stream",
     "text": [
      "Fitting 3 folds for each of 50 candidates, totalling 150 fits\n",
      "Best Hyperparameters: {'n_estimators': 300, 'min_samples_split': 2, 'min_samples_leaf': 4, 'max_features': 'sqrt', 'max_depth': 15, 'bootstrap': True}\n",
      "Model Accuracy after tuning: 1.0\n",
      "Model saved to model.pkl\n",
      "Model Monitoring Accuracy: 0.9733333333333334\n"
     ]
    },
    {
     "data": {
      "text/plain": [
       "0.9733333333333334"
      ]
     },
     "execution_count": 27,
     "metadata": {},
     "output_type": "execute_result"
    }
   ],
   "source": [
    "def monitor_model(model, features, target):\n",
    "    predictions = model.predict(features)\n",
    "    accuracy = accuracy_score(target, predictions)\n",
    "    print(f\"Model Monitoring Accuracy: {accuracy}\")\n",
    "    return accuracy\n",
    "  \n",
    "# Example usage\n",
    "data = ingest_data()\n",
    "features, target = engineer_features(data)\n",
    "model = train_model(features, target)\n",
    "deploy_model(model, 'model.pkl')\n",
    "\n",
    "# Monitor model performance with new data (using the same dataset for simplicity)\n",
    "monitor_model(model, features, target)"
   ]
  },
  {
   "cell_type": "code",
   "execution_count": null,
   "metadata": {},
   "outputs": [],
   "source": []
  }
 ],
 "metadata": {
  "kernelspec": {
   "display_name": "Python 3",
   "language": "python",
   "name": "python3"
  },
  "language_info": {
   "codemirror_mode": {
    "name": "ipython",
    "version": 3
   },
   "file_extension": ".py",
   "mimetype": "text/x-python",
   "name": "python",
   "nbconvert_exporter": "python",
   "pygments_lexer": "ipython3",
   "version": "3.11.2"
  }
 },
 "nbformat": 4,
 "nbformat_minor": 2
}
